{
  "nbformat": 4,
  "nbformat_minor": 0,
  "metadata": {
    "colab": {
      "provenance": [],
      "authorship_tag": "ABX9TyMrdafBHyrEBmxjLZSf8Yzh",
      "include_colab_link": true
    },
    "kernelspec": {
      "name": "python3",
      "display_name": "Python 3"
    },
    "language_info": {
      "name": "python"
    }
  },
  "cells": [
    {
      "cell_type": "markdown",
      "metadata": {
        "id": "view-in-github",
        "colab_type": "text"
      },
      "source": [
        "<a href=\"https://colab.research.google.com/github/salo1802/AED/blob/main/TallerPipelines.ipynb\" target=\"_parent\"><img src=\"https://colab.research.google.com/assets/colab-badge.svg\" alt=\"Open In Colab\"/></a>"
      ]
    },
    {
      "cell_type": "code",
      "execution_count": 1,
      "metadata": {
        "id": "EeynLDf0XNq9"
      },
      "outputs": [],
      "source": [
        "# Based on https://towardsdatascience.com/pipelines-custom-transformers-in-scikit-learn-the-step-by-step-guide-with-python-code-4a7d9b068156\n",
        "\n",
        "import numpy as np\n",
        "import pandas as pd\n",
        "import warnings\n",
        "warnings.filterwarnings('ignore')\n",
        "from sklearn.metrics import mean_squared_error\n",
        "\n",
        "from sklearn.preprocessing import StandardScaler, PowerTransformer\n",
        "from sklearn.compose import TransformedTargetRegressor\n",
        "from sklearn.pipeline import FeatureUnion, Pipeline, make_pipeline\n",
        "from sklearn.base import BaseEstimator, TransformerMixin\n",
        "\n",
        "from sklearn.linear_model import LinearRegression"
      ]
    },
    {
      "cell_type": "code",
      "source": [
        "X1 = [3,4,2,5,2,4,1,7]\n",
        "X2 = [6,33,46,21,65,33,15,11]\n",
        "y = y = [x + 3*(z/(z-1)) for x, z in zip(X1, X2)]\n",
        "\n",
        "\n",
        "\n",
        "df = pd.DataFrame(columns=['X1', 'X2', 'y'], data=[\n",
        "                                                   [X1[0],X2[0],y[0]],\n",
        "                                                   [X1[1],X2[1],y[1]],\n",
        "                                                   [X1[2],X2[2],y[2]],\n",
        "                                                   [X1[3],X2[3],y[3]],\n",
        "                                                   [X1[4],X2[4],y[4]],\n",
        "                                                   [X1[5],X2[5],y[5]],\n",
        "                                                   [X1[6],X2[6],y[6]],\n",
        "                                                   [X1[7],X2[7],y[7]]\n",
        "])\n",
        "\n",
        "print(df)\n",
        "\n",
        "### y = X1 + 2 * sqrt(X2)\n",
        "# Esto asegura que un modelo de regresión lineal simple no pueda ajustarse perfectamente."
      ],
      "metadata": {
        "colab": {
          "base_uri": "https://localhost:8080/"
        },
        "id": "pedrTPpcXW9i",
        "outputId": "8416efaa-26be-4c22-8634-81dfee4d9fc6"
      },
      "execution_count": 66,
      "outputs": [
        {
          "output_type": "stream",
          "name": "stdout",
          "text": [
            "   X1  X2          y\n",
            "0   3   6   6.600000\n",
            "1   4  33   7.093750\n",
            "2   2  46   5.066667\n",
            "3   5  21   8.150000\n",
            "4   2  65   5.046875\n",
            "5   4  33   7.093750\n",
            "6   1  15   4.214286\n",
            "7   7  11  10.300000\n"
          ]
        }
      ]
    },
    {
      "cell_type": "code",
      "source": [
        "# Separamos en train y test\n",
        "\n",
        "train = df.iloc[:6]\n",
        "test = df.iloc[6:]\n",
        "\n",
        "train_X = train.drop('y', axis=1)\n",
        "train_y = train.y\n",
        "\n",
        "test_X = test.drop('y', axis=1)\n",
        "test_y = test.y"
      ],
      "metadata": {
        "id": "uJDSjlNiZMzU"
      },
      "execution_count": 67,
      "outputs": []
    },
    {
      "cell_type": "code",
      "source": [
        "# Creamos una clase transformadora\n",
        "\n",
        "\n",
        "class ExperimentalTransformer(BaseEstimator, TransformerMixin):\n",
        "  def __init__(self):\n",
        "    print('\\n>>>>>>>init() called.\\n')\n",
        "\n",
        "  def fit(self, X, y = None):\n",
        "    print('\\n>>>>>>>fit() called.\\n')\n",
        "    return self\n",
        "\n",
        "  def transform(self, X, y = None):\n",
        "    print('\\n>>>>>>>transform() called.\\n')\n",
        "    X_ = X.copy() # creamos una copia para evitar cambios en el conjunto de datos original\n",
        "    X_.X2 = 3 * (X_.X2/(X_.X2-1))\n",
        "    return X_"
      ],
      "metadata": {
        "id": "3L6IQZSEZXo7"
      },
      "execution_count": 68,
      "outputs": []
    },
    {
      "cell_type": "code",
      "source": [
        "# sin transformación de entrada\n",
        "\n",
        "\n",
        "print(\"create pipeline 1\")\n",
        "pipe1 = Pipeline(steps=[\n",
        "                       ('linear_model', LinearRegression())\n",
        "])\n",
        "\n",
        "print(\"fit pipeline 1\")\n",
        "pipe1.fit(train_X, train_y)\n",
        "\n",
        "print(\"predict via pipeline 1\")\n",
        "preds1 = pipe1.predict(test_X)\n",
        "\n",
        "print(f\"\\n{preds1}\")  #\n",
        "print(f\"RMSE: {np.sqrt(mean_squared_error(test_y, preds1))}\\n\")"
      ],
      "metadata": {
        "colab": {
          "base_uri": "https://localhost:8080/"
        },
        "id": "SW_uy_oebfxJ",
        "outputId": "dd22bd84-d9ed-4f55-f3e9-d850c0f5c106"
      },
      "execution_count": 70,
      "outputs": [
        {
          "output_type": "stream",
          "name": "stdout",
          "text": [
            "create pipeline 1\n",
            "fit pipeline 1\n",
            "predict via pipeline 1\n",
            "\n",
            "[ 4.66628785 10.03711863]\n",
            "RMSE: 0.36973811397208417\n",
            "\n"
          ]
        }
      ]
    },
    {
      "cell_type": "code",
      "source": [
        "# con transformation de entradas\n",
        "\n",
        "print(\"create pipeline 2\")\n",
        "pipe2 = Pipeline(steps=[\n",
        "                       ('experimental_trans', ExperimentalTransformer()),\n",
        "                       ('linear_model', LinearRegression())\n",
        "])\n",
        "\n",
        "\n",
        "\n",
        "\n",
        "\n",
        "print(\"fit pipeline 2\")\n",
        "pipe2.fit(train_X, train_y)\n",
        "\n",
        "print(\"predict via pipeline 2\")\n",
        "preds2 = pipe2.predict(test_X)\n",
        "\n",
        "print(f\"\\n{preds2}\")\n",
        "print(f\"RMSE: {np.sqrt(mean_squared_error(test_y, preds2))}\\n\")\n"
      ],
      "metadata": {
        "colab": {
          "base_uri": "https://localhost:8080/"
        },
        "id": "c5xt28yWaesU",
        "outputId": "107b9352-e5b8-402d-ad54-a7e1607b56a7"
      },
      "execution_count": 74,
      "outputs": [
        {
          "output_type": "stream",
          "name": "stdout",
          "text": [
            "create pipeline 2\n",
            "\n",
            ">>>>>>>init() called.\n",
            "\n",
            "fit pipeline 2\n",
            "\n",
            ">>>>>>>fit() called.\n",
            "\n",
            "\n",
            ">>>>>>>transform() called.\n",
            "\n",
            "predict via pipeline 2\n",
            "\n",
            ">>>>>>>transform() called.\n",
            "\n",
            "\n",
            "[ 4.21428571 10.3       ]\n",
            "RMSE: 6.280369834735101e-16\n",
            "\n"
          ]
        }
      ]
    }
  ]
}