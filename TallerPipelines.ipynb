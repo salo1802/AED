{
  "nbformat": 4,
  "nbformat_minor": 0,
  "metadata": {
    "colab": {
      "provenance": [],
      "authorship_tag": "ABX9TyM1rkPEUPG8xOH9mmsyvLkf",
      "include_colab_link": true
    },
    "kernelspec": {
      "name": "python3",
      "display_name": "Python 3"
    },
    "language_info": {
      "name": "python"
    }
  },
  "cells": [
    {
      "cell_type": "markdown",
      "metadata": {
        "id": "view-in-github",
        "colab_type": "text"
      },
      "source": [
        "<a href=\"https://colab.research.google.com/github/salo1802/AED/blob/main/TallerPipelines.ipynb\" target=\"_parent\"><img src=\"https://colab.research.google.com/assets/colab-badge.svg\" alt=\"Open In Colab\"/></a>"
      ]
    },
    {
      "cell_type": "code",
      "execution_count": 1,
      "metadata": {
        "id": "EeynLDf0XNq9"
      },
      "outputs": [],
      "source": [
        "# Based on https://towardsdatascience.com/pipelines-custom-transformers-in-scikit-learn-the-step-by-step-guide-with-python-code-4a7d9b068156\n",
        "\n",
        "import numpy as np\n",
        "import pandas as pd\n",
        "import warnings\n",
        "warnings.filterwarnings('ignore')\n",
        "from sklearn.metrics import mean_squared_error\n",
        "\n",
        "from sklearn.preprocessing import StandardScaler, PowerTransformer\n",
        "from sklearn.compose import TransformedTargetRegressor\n",
        "from sklearn.pipeline import FeatureUnion, Pipeline, make_pipeline\n",
        "from sklearn.base import BaseEstimator, TransformerMixin\n",
        "\n",
        "from sklearn.linear_model import LinearRegression"
      ]
    },
    {
      "cell_type": "code",
      "source": [
        "X1 = [1,4,1,2,3,2,4,5]\n",
        "X2 = [16,36,16,9,36,49,25,36]\n",
        "y = y = [x + 3*(z/(z-1)) for x, z in zip(X1, X2)]\n",
        "\n",
        "\n",
        "\n",
        "df = pd.DataFrame(columns=['X1', 'X2', 'y'], data=[\n",
        "                                                   [1,16,y[0]],\n",
        "                                                   [4,36,y[1]],\n",
        "                                                   [1,16,y[2]],\n",
        "                                                   [2,9,y[3]],\n",
        "                                                   [3,36,y[4]],\n",
        "                                                   [2,49,y[5]],\n",
        "                                                   [4,25,y[6]],\n",
        "                                                   [5,36,y[7]]\n",
        "])\n",
        "\n",
        "print(df)\n",
        "\n",
        "### y = X1 + 2 * sqrt(X2)\n",
        "# Esto asegura que un modelo de regresión lineal simple no pueda ajustarse perfectamente."
      ],
      "metadata": {
        "colab": {
          "base_uri": "https://localhost:8080/"
        },
        "id": "pedrTPpcXW9i",
        "outputId": "9d4a983f-4e96-47d1-f72f-aa06d21299fd"
      },
      "execution_count": 21,
      "outputs": [
        {
          "output_type": "stream",
          "name": "stdout",
          "text": [
            "   X1  X2         y\n",
            "0   1  16  4.200000\n",
            "1   4  36  7.085714\n",
            "2   1  16  4.200000\n",
            "3   2   9  5.375000\n",
            "4   3  36  6.085714\n",
            "5   2  49  5.062500\n",
            "6   4  25  7.125000\n",
            "7   5  36  8.085714\n"
          ]
        }
      ]
    },
    {
      "cell_type": "code",
      "source": [
        "import matplotlib.pyplot as plt\n",
        "# Diagrama de dispersión para X1 y y\n",
        "plt.scatter(df['X1'], df['y'], label='X1 vs y', color='blue')\n",
        "\n",
        "# Diagrama de dispersión para X2 y y\n",
        "plt.scatter(df['X2'], df['y'], label='X2 vs y', color='red')\n",
        "\n",
        "plt.xlabel('X values')\n",
        "plt.ylabel('y values')\n",
        "plt.title('Diagrama de dispersión')\n",
        "plt.legend()\n",
        "plt.show()"
      ],
      "metadata": {
        "colab": {
          "base_uri": "https://localhost:8080/",
          "height": 472
        },
        "id": "FN8IaJYOdBaK",
        "outputId": "0453f81e-e520-48a0-b7e4-76d5fffd88df"
      },
      "execution_count": 29,
      "outputs": [
        {
          "output_type": "display_data",
          "data": {
            "text/plain": [
              "<Figure size 640x480 with 1 Axes>"
            ],
            "image/png": "[encoded data removed]"
          },
          "metadata": {}
        }
      ]
    },
    {
      "cell_type": "code",
      "source": [
        "# Separamos en train y test\n",
        "\n",
        "train = df.iloc[:6]\n",
        "test = df.iloc[6:]\n",
        "\n",
        "train_X = train.drop('y', axis=1)\n",
        "train_y = train.y\n",
        "\n",
        "test_X = test.drop('y', axis=1)\n",
        "test_y = test.y"
      ],
      "metadata": {
        "id": "uJDSjlNiZMzU"
      },
      "execution_count": 22,
      "outputs": []
    },
    {
      "cell_type": "code",
      "source": [
        "#  verificacmos si la regresión lineal puede predecir correctamente\n",
        "\n",
        "m1 = LinearRegression()\n",
        "fit1 = m1.fit(train_X, train_y)\n",
        "preds = fit1.predict(test_X)\n",
        "print(f\"\\n{preds}\")\n",
        "print(f\"RMSE: {np.sqrt(mean_squared_error(test_y, preds))}\\n\")"
      ],
      "metadata": {
        "colab": {
          "base_uri": "https://localhost:8080/"
        },
        "id": "JFHW6eBrZRVK",
        "outputId": "41a22ef9-82e0-4632-d3db-649774a0c9c3"
      },
      "execution_count": 23,
      "outputs": [
        {
          "output_type": "stream",
          "name": "stdout",
          "text": [
            "\n",
            "[7.19034132 8.11812253]\n",
            "RMSE: 0.051574133561330913\n",
            "\n"
          ]
        }
      ]
    },
    {
      "cell_type": "code",
      "source": [
        "# Creamos una clase transformadora\n",
        "\n",
        "#__init__: este es el constructor. Se llama cuando se inicializa el pipeline.\n",
        "#fit(): Se llama cuando hacemos fit en el pipeline.\n",
        "#transform(): se llama cuando usamos fit o transform en el pipeline\n",
        "\n",
        "class ExperimentalTransformer(BaseEstimator, TransformerMixin):\n",
        "  def __init__(self):\n",
        "    print('\\n>>>>>>>init() called.\\n')\n",
        "\n",
        "  def fit(self, X, y = None):\n",
        "    print('\\n>>>>>>>fit() called.\\n')\n",
        "    return self\n",
        "\n",
        "  def transform(self, X, y = None):\n",
        "    print('\\n>>>>>>>transform() called.\\n')\n",
        "    X_ = X.copy() # creamos una copia para evitar cambios en el conjunto de datos original\n",
        "    X_.X2 = 3 * (X_.X2/(X_.X2-1))\n",
        "    return X_"
      ],
      "metadata": {
        "id": "3L6IQZSEZXo7"
      },
      "execution_count": 25,
      "outputs": []
    },
    {
      "cell_type": "code",
      "source": [
        "# sin transformación de entrada - para validar que obtenemos los mismos resultados que antes\n",
        "\n",
        "\n",
        "print(\"create pipeline 1\")\n",
        "pipe1 = Pipeline(steps=[\n",
        "                       ('linear_model', LinearRegression())\n",
        "])\n",
        "\n",
        "print(\"fit pipeline 1\")\n",
        "pipe1.fit(train_X, train_y)\n",
        "\n",
        "print(\"predict via pipeline 1\")\n",
        "preds1 = pipe1.predict(test_X)\n",
        "\n",
        "print(f\"\\n{preds1}\")  # should be [13.72113586 16.93334467]\n",
        "print(f\"RMSE: {np.sqrt(mean_squared_error(test_y, preds1))}\\n\")"
      ],
      "metadata": {
        "colab": {
          "base_uri": "https://localhost:8080/"
        },
        "id": "SW_uy_oebfxJ",
        "outputId": "9fcd5205-a35c-40d2-f779-ff8000d4c708"
      },
      "execution_count": 27,
      "outputs": [
        {
          "output_type": "stream",
          "name": "stdout",
          "text": [
            "create pipeline 1\n",
            "fit pipeline 1\n",
            "predict via pipeline 1\n",
            "\n",
            "[7.19034132 8.11812253]\n",
            "RMSE: 0.051574133561330913\n",
            "\n"
          ]
        }
      ]
    },
    {
      "cell_type": "code",
      "source": [
        "# con transformation de entradas\n",
        "\n",
        "print(\"create pipeline 2\")\n",
        "pipe2 = Pipeline(steps=[\n",
        "                       ('experimental_trans', ExperimentalTransformer()),    # esto dispara una llamda a __init__\n",
        "                       ('linear_model', LinearRegression())\n",
        "])\n",
        "\n",
        "transformed_data = pipe2.named_steps['experimental_trans'].transform(train_X)\n",
        "\n",
        "\n",
        "\n",
        "# una sintaxis alternativa y más corta para hacer lo anterior, sin nombrar cada paso, es:\n",
        "#pipe2 = make_pipeline(ExperimentalTransformer(), LinearRegression())\n",
        "\n",
        "print(\"fit pipeline 2\")\n",
        "pipe2.fit(train_X, train_y)\n",
        "\n",
        "print(\"predict via pipeline 2\")\n",
        "preds2 = pipe2.predict(test_X)\n",
        "\n",
        "print(f\"\\n{preds2}\")  # should be [14. 17.]\n",
        "print(f\"RMSE: {np.sqrt(mean_squared_error(test_y, preds2))}\\n\")\n"
      ],
      "metadata": {
        "colab": {
          "base_uri": "https://localhost:8080/"
        },
        "id": "c5xt28yWaesU",
        "outputId": "60f9e8b0-4162-47ac-d006-072fb1957481"
      },
      "execution_count": 40,
      "outputs": [
        {
          "output_type": "stream",
          "name": "stdout",
          "text": [
            "create pipeline 2\n",
            "\n",
            ">>>>>>>init() called.\n",
            "\n",
            "\n",
            ">>>>>>>transform() called.\n",
            "\n",
            "fit pipeline 2\n",
            "\n",
            ">>>>>>>fit() called.\n",
            "\n",
            "\n",
            ">>>>>>>transform() called.\n",
            "\n",
            "predict via pipeline 2\n",
            "\n",
            ">>>>>>>transform() called.\n",
            "\n",
            "\n",
            "[7.125      8.08571429]\n",
            "RMSE: 6.280369834735101e-16\n",
            "\n"
          ]
        }
      ]
    },
    {
      "cell_type": "code",
      "source": [
        "train_y"
      ],
      "metadata": {
        "colab": {
          "base_uri": "https://localhost:8080/"
        },
        "id": "54JWv-YWfXkb",
        "outputId": "a18d66ec-331d-4249-f987-90148793877a"
      },
      "execution_count": 43,
      "outputs": [
        {
          "output_type": "execute_result",
          "data": {
            "text/plain": [
              "0    4.200000\n",
              "1    7.085714\n",
              "2    4.200000\n",
              "3    5.375000\n",
              "4    6.085714\n",
              "5    5.062500\n",
              "Name: y, dtype: float64"
            ]
          },
          "metadata": {},
          "execution_count": 43
        }
      ]
    },
    {
      "cell_type": "code",
      "source": [
        "plt.scatter(transformed_data['X1'], train_y)\n",
        "plt.xlabel('X1')\n",
        "plt.ylabel('y')\n",
        "plt.title('Diagrama de dispersión de datos transformados')\n",
        "plt.show()\n",
        "\n",
        "plt.scatter(transformed_data['X1'], train_y)\n",
        "plt.xlabel('X2')\n",
        "plt.ylabel('y')\n",
        "plt.title('Diagrama de dispersión de datos transformados')\n",
        "plt.show()"
      ],
      "metadata": {
        "colab": {
          "base_uri": "https://localhost:8080/",
          "height": 927
        },
        "id": "3IZffyTodQry",
        "outputId": "8192ebef-c764-4781-ccb4-30c9f8115d3e"
      },
      "execution_count": 45,
      "outputs": [
        {
          "output_type": "display_data",
          "data": {
            "text/plain": [
              "<Figure size 640x480 with 1 Axes>"
            ],
            "image/png": "[encoded data removed]"
          },
          "metadata": {}
        },
        {
          "output_type": "display_data",
          "data": {
            "text/plain": [
              "<Figure size 640x480 with 1 Axes>"
            ],
            "image/png": "[encoded data removed]"
          },
          "metadata": {}
        }
      ]
    }
  ]
}